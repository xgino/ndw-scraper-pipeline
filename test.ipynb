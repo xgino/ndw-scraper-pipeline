{
 "cells": [
  {
   "cell_type": "code",
   "execution_count": 1,
   "metadata": {},
   "outputs": [],
   "source": [
    "import pandas as pd"
   ]
  },
  {
   "cell_type": "code",
   "execution_count": 25,
   "metadata": {},
   "outputs": [
    {
     "data": {
      "text/plain": [
       "(4007340, 7)"
      ]
     },
     "execution_count": 25,
     "metadata": {},
     "output_type": "execute_result"
    }
   ],
   "source": [
    "df = pd.read_parquet(\"./opendata/data/\")\n",
    "df.shape"
   ]
  },
  {
   "cell_type": "code",
   "execution_count": 26,
   "metadata": {},
   "outputs": [
    {
     "data": {
      "text/html": [
       "<div>\n",
       "<style scoped>\n",
       "    .dataframe tbody tr th:only-of-type {\n",
       "        vertical-align: middle;\n",
       "    }\n",
       "\n",
       "    .dataframe tbody tr th {\n",
       "        vertical-align: top;\n",
       "    }\n",
       "\n",
       "    .dataframe thead th {\n",
       "        text-align: right;\n",
       "    }\n",
       "</style>\n",
       "<table border=\"1\" class=\"dataframe\">\n",
       "  <thead>\n",
       "    <tr style=\"text-align: right;\">\n",
       "      <th></th>\n",
       "      <th>ts_event</th>\n",
       "      <th>ts_state</th>\n",
       "      <th>sign_id</th>\n",
       "      <th>road</th>\n",
       "      <th>carriageway</th>\n",
       "      <th>lane</th>\n",
       "      <th>km</th>\n",
       "    </tr>\n",
       "  </thead>\n",
       "  <tbody>\n",
       "    <tr>\n",
       "      <th>0</th>\n",
       "      <td>2019-09-19T12:29:20.622Z</td>\n",
       "      <td>2019-09-19T12:29:15.586Z</td>\n",
       "      <td>1efa8916-c854-465b-80f5-1f02fd25fb31</td>\n",
       "      <td>A2</td>\n",
       "      <td>R</td>\n",
       "      <td>1</td>\n",
       "      <td>134.960</td>\n",
       "    </tr>\n",
       "    <tr>\n",
       "      <th>1</th>\n",
       "      <td>2024-11-29T15:32:36.961Z</td>\n",
       "      <td>2024-11-29T15:32:36.000Z</td>\n",
       "      <td>1efa8916-c854-465b-80f5-1f02fd25fb31</td>\n",
       "      <td>None</td>\n",
       "      <td>None</td>\n",
       "      <td>None</td>\n",
       "      <td>None</td>\n",
       "    </tr>\n",
       "    <tr>\n",
       "      <th>2</th>\n",
       "      <td>2019-09-19T12:25:43.827Z</td>\n",
       "      <td>2019-09-19T12:25:36.159Z</td>\n",
       "      <td>73bf3758-6754-433f-9896-d03c0673ae55</td>\n",
       "      <td>A1</td>\n",
       "      <td>R</td>\n",
       "      <td>3</td>\n",
       "      <td>11.593</td>\n",
       "    </tr>\n",
       "    <tr>\n",
       "      <th>3</th>\n",
       "      <td>2024-11-29T15:34:56.894Z</td>\n",
       "      <td>2024-11-29T15:34:54.000Z</td>\n",
       "      <td>73bf3758-6754-433f-9896-d03c0673ae55</td>\n",
       "      <td>None</td>\n",
       "      <td>None</td>\n",
       "      <td>None</td>\n",
       "      <td>None</td>\n",
       "    </tr>\n",
       "    <tr>\n",
       "      <th>4</th>\n",
       "      <td>2024-03-16T09:24:10.287Z</td>\n",
       "      <td>2024-03-16T09:24:00.636Z</td>\n",
       "      <td>585ef8be-533f-4634-8cfd-0703689d5689</td>\n",
       "      <td>N7</td>\n",
       "      <td>R</td>\n",
       "      <td>1</td>\n",
       "      <td>195.280</td>\n",
       "    </tr>\n",
       "  </tbody>\n",
       "</table>\n",
       "</div>"
      ],
      "text/plain": [
       "                   ts_event                  ts_state   \n",
       "0  2019-09-19T12:29:20.622Z  2019-09-19T12:29:15.586Z  \\\n",
       "1  2024-11-29T15:32:36.961Z  2024-11-29T15:32:36.000Z   \n",
       "2  2019-09-19T12:25:43.827Z  2019-09-19T12:25:36.159Z   \n",
       "3  2024-11-29T15:34:56.894Z  2024-11-29T15:34:54.000Z   \n",
       "4  2024-03-16T09:24:10.287Z  2024-03-16T09:24:00.636Z   \n",
       "\n",
       "                                sign_id  road carriageway  lane       km  \n",
       "0  1efa8916-c854-465b-80f5-1f02fd25fb31    A2           R     1  134.960  \n",
       "1  1efa8916-c854-465b-80f5-1f02fd25fb31  None        None  None     None  \n",
       "2  73bf3758-6754-433f-9896-d03c0673ae55    A1           R     3   11.593  \n",
       "3  73bf3758-6754-433f-9896-d03c0673ae55  None        None  None     None  \n",
       "4  585ef8be-533f-4634-8cfd-0703689d5689    N7           R     1  195.280  "
      ]
     },
     "execution_count": 26,
     "metadata": {},
     "output_type": "execute_result"
    }
   ],
   "source": [
    "df.head()"
   ]
  },
  {
   "cell_type": "code",
   "execution_count": null,
   "metadata": {},
   "outputs": [],
   "source": []
  }
 ],
 "metadata": {
  "kernelspec": {
   "display_name": "Python 3",
   "language": "python",
   "name": "python3"
  },
  "language_info": {
   "codemirror_mode": {
    "name": "ipython",
    "version": 3
   },
   "file_extension": ".py",
   "mimetype": "text/x-python",
   "name": "python",
   "nbconvert_exporter": "python",
   "pygments_lexer": "ipython3",
   "version": "3.10.8"
  }
 },
 "nbformat": 4,
 "nbformat_minor": 2
}
