{
 "cells": [
  {
   "cell_type": "code",
   "execution_count": 29,
   "metadata": {},
   "outputs": [],
   "source": [
    "import pandas as pd \n",
    "import geopandas as gpd\n",
    "from shapely import wkb\n",
    "# xml is bad"
   ]
  },
  {
   "cell_type": "code",
   "execution_count": 30,
   "metadata": {},
   "outputs": [],
   "source": [
    "pd.set_option('display.max_columns', None)"
   ]
  },
  {
   "cell_type": "code",
   "execution_count": 31,
   "metadata": {},
   "outputs": [
    {
     "data": {
      "text/plain": [
       "(914, 16)"
      ]
     },
     "execution_count": 31,
     "metadata": {},
     "output_type": "execute_result"
    }
   ],
   "source": [
    "df = pd.read_parquet('./data/bridge_opening.parquet')\n",
    "df.shape"
   ]
  },
  {
   "cell_type": "code",
   "execution_count": 32,
   "metadata": {},
   "outputs": [
    {
     "data": {
      "text/html": [
       "<div>\n",
       "<style scoped>\n",
       "    .dataframe tbody tr th:only-of-type {\n",
       "        vertical-align: middle;\n",
       "    }\n",
       "\n",
       "    .dataframe tbody tr th {\n",
       "        vertical-align: top;\n",
       "    }\n",
       "\n",
       "    .dataframe thead th {\n",
       "        text-align: right;\n",
       "    }\n",
       "</style>\n",
       "<table border=\"1\" class=\"dataframe\">\n",
       "  <thead>\n",
       "    <tr style=\"text-align: right;\">\n",
       "      <th></th>\n",
       "      <th>overallSeverity</th>\n",
       "      <th>situationVersionTime</th>\n",
       "      <th>confidentiality</th>\n",
       "      <th>informationStatus</th>\n",
       "      <th>situationRecordCreationTime</th>\n",
       "      <th>situationRecordVersionTime</th>\n",
       "      <th>probabilityOfOccurrence</th>\n",
       "      <th>source</th>\n",
       "      <th>validityStatus</th>\n",
       "      <th>overallStartTime</th>\n",
       "      <th>overallEndTime</th>\n",
       "      <th>latitude</th>\n",
       "      <th>longitude</th>\n",
       "      <th>operatorActionStatus</th>\n",
       "      <th>complianceOption</th>\n",
       "      <th>generalNetworkManagementType</th>\n",
       "    </tr>\n",
       "  </thead>\n",
       "  <tbody>\n",
       "    <tr>\n",
       "      <th>0</th>\n",
       "      <td>unknown</td>\n",
       "      <td>2024-11-27T10:12:42.514Z</td>\n",
       "      <td>noRestriction</td>\n",
       "      <td>real</td>\n",
       "      <td>2024-11-27T10:12:42.514Z</td>\n",
       "      <td>2024-11-27T10:12:42.514Z</td>\n",
       "      <td>riskOf</td>\n",
       "      <td>NDW04</td>\n",
       "      <td>definedByValidityTimeSpec</td>\n",
       "      <td>2024-11-30T14:14:00.000Z</td>\n",
       "      <td>2024-11-30T14:20:00.000Z</td>\n",
       "      <td>52.6465947555702</td>\n",
       "      <td>4.74390490330847</td>\n",
       "      <td>approved</td>\n",
       "      <td>mandatory</td>\n",
       "      <td>bridgeSwingInOperation</td>\n",
       "    </tr>\n",
       "    <tr>\n",
       "      <th>1</th>\n",
       "      <td>unknown</td>\n",
       "      <td>2024-11-27T10:13:08.598Z</td>\n",
       "      <td>noRestriction</td>\n",
       "      <td>real</td>\n",
       "      <td>2024-11-27T10:13:08.598Z</td>\n",
       "      <td>2024-11-27T10:13:08.598Z</td>\n",
       "      <td>riskOf</td>\n",
       "      <td>NDW04</td>\n",
       "      <td>definedByValidityTimeSpec</td>\n",
       "      <td>2024-11-30T06:55:00.000Z</td>\n",
       "      <td>2024-11-30T07:01:00.000Z</td>\n",
       "      <td>52.632239682571</td>\n",
       "      <td>4.75451982093188</td>\n",
       "      <td>approved</td>\n",
       "      <td>mandatory</td>\n",
       "      <td>bridgeSwingInOperation</td>\n",
       "    </tr>\n",
       "    <tr>\n",
       "      <th>2</th>\n",
       "      <td>unknown</td>\n",
       "      <td>2024-11-27T10:13:08.599Z</td>\n",
       "      <td>noRestriction</td>\n",
       "      <td>real</td>\n",
       "      <td>2024-11-27T10:13:08.599Z</td>\n",
       "      <td>2024-11-27T10:13:08.599Z</td>\n",
       "      <td>riskOf</td>\n",
       "      <td>NDW04</td>\n",
       "      <td>definedByValidityTimeSpec</td>\n",
       "      <td>2024-11-30T08:01:00.000Z</td>\n",
       "      <td>2024-11-30T08:07:00.000Z</td>\n",
       "      <td>52.632239682571</td>\n",
       "      <td>4.75451982093188</td>\n",
       "      <td>approved</td>\n",
       "      <td>mandatory</td>\n",
       "      <td>bridgeSwingInOperation</td>\n",
       "    </tr>\n",
       "    <tr>\n",
       "      <th>3</th>\n",
       "      <td>unknown</td>\n",
       "      <td>2024-11-27T10:13:08.600Z</td>\n",
       "      <td>noRestriction</td>\n",
       "      <td>real</td>\n",
       "      <td>2024-11-27T10:13:08.600Z</td>\n",
       "      <td>2024-11-27T10:13:08.600Z</td>\n",
       "      <td>riskOf</td>\n",
       "      <td>NDW04</td>\n",
       "      <td>definedByValidityTimeSpec</td>\n",
       "      <td>2024-11-30T08:03:00.000Z</td>\n",
       "      <td>2024-11-30T08:09:00.000Z</td>\n",
       "      <td>52.632239682571</td>\n",
       "      <td>4.75451982093188</td>\n",
       "      <td>approved</td>\n",
       "      <td>mandatory</td>\n",
       "      <td>bridgeSwingInOperation</td>\n",
       "    </tr>\n",
       "    <tr>\n",
       "      <th>4</th>\n",
       "      <td>unknown</td>\n",
       "      <td>2024-11-27T10:13:02.075Z</td>\n",
       "      <td>noRestriction</td>\n",
       "      <td>real</td>\n",
       "      <td>2024-11-27T10:13:02.075Z</td>\n",
       "      <td>2024-11-27T10:13:02.075Z</td>\n",
       "      <td>riskOf</td>\n",
       "      <td>NDW04</td>\n",
       "      <td>definedByValidityTimeSpec</td>\n",
       "      <td>2024-11-30T11:36:00.000Z</td>\n",
       "      <td>2024-11-30T11:42:00.000Z</td>\n",
       "      <td>52.2306239447769</td>\n",
       "      <td>4.66969370372335</td>\n",
       "      <td>approved</td>\n",
       "      <td>mandatory</td>\n",
       "      <td>bridgeSwingInOperation</td>\n",
       "    </tr>\n",
       "  </tbody>\n",
       "</table>\n",
       "</div>"
      ],
      "text/plain": [
       "  overallSeverity      situationVersionTime confidentiality informationStatus   \n",
       "0         unknown  2024-11-27T10:12:42.514Z   noRestriction              real  \\\n",
       "1         unknown  2024-11-27T10:13:08.598Z   noRestriction              real   \n",
       "2         unknown  2024-11-27T10:13:08.599Z   noRestriction              real   \n",
       "3         unknown  2024-11-27T10:13:08.600Z   noRestriction              real   \n",
       "4         unknown  2024-11-27T10:13:02.075Z   noRestriction              real   \n",
       "\n",
       "  situationRecordCreationTime situationRecordVersionTime   \n",
       "0    2024-11-27T10:12:42.514Z   2024-11-27T10:12:42.514Z  \\\n",
       "1    2024-11-27T10:13:08.598Z   2024-11-27T10:13:08.598Z   \n",
       "2    2024-11-27T10:13:08.599Z   2024-11-27T10:13:08.599Z   \n",
       "3    2024-11-27T10:13:08.600Z   2024-11-27T10:13:08.600Z   \n",
       "4    2024-11-27T10:13:02.075Z   2024-11-27T10:13:02.075Z   \n",
       "\n",
       "  probabilityOfOccurrence source             validityStatus   \n",
       "0                  riskOf  NDW04  definedByValidityTimeSpec  \\\n",
       "1                  riskOf  NDW04  definedByValidityTimeSpec   \n",
       "2                  riskOf  NDW04  definedByValidityTimeSpec   \n",
       "3                  riskOf  NDW04  definedByValidityTimeSpec   \n",
       "4                  riskOf  NDW04  definedByValidityTimeSpec   \n",
       "\n",
       "           overallStartTime            overallEndTime          latitude   \n",
       "0  2024-11-30T14:14:00.000Z  2024-11-30T14:20:00.000Z  52.6465947555702  \\\n",
       "1  2024-11-30T06:55:00.000Z  2024-11-30T07:01:00.000Z   52.632239682571   \n",
       "2  2024-11-30T08:01:00.000Z  2024-11-30T08:07:00.000Z   52.632239682571   \n",
       "3  2024-11-30T08:03:00.000Z  2024-11-30T08:09:00.000Z   52.632239682571   \n",
       "4  2024-11-30T11:36:00.000Z  2024-11-30T11:42:00.000Z  52.2306239447769   \n",
       "\n",
       "          longitude operatorActionStatus complianceOption   \n",
       "0  4.74390490330847             approved        mandatory  \\\n",
       "1  4.75451982093188             approved        mandatory   \n",
       "2  4.75451982093188             approved        mandatory   \n",
       "3  4.75451982093188             approved        mandatory   \n",
       "4  4.66969370372335             approved        mandatory   \n",
       "\n",
       "  generalNetworkManagementType  \n",
       "0       bridgeSwingInOperation  \n",
       "1       bridgeSwingInOperation  \n",
       "2       bridgeSwingInOperation  \n",
       "3       bridgeSwingInOperation  \n",
       "4       bridgeSwingInOperation  "
      ]
     },
     "execution_count": 32,
     "metadata": {},
     "output_type": "execute_result"
    }
   ],
   "source": [
    "df.head()"
   ]
  },
  {
   "cell_type": "code",
   "execution_count": null,
   "metadata": {},
   "outputs": [],
   "source": [
    "df.columns[0]"
   ]
  },
  {
   "cell_type": "code",
   "execution_count": null,
   "metadata": {},
   "outputs": [],
   "source": [
    "df"
   ]
  },
  {
   "cell_type": "code",
   "execution_count": null,
   "metadata": {},
   "outputs": [],
   "source": [
    "df[\"geometry\"] = df[\"geometry\"].apply(wkb.loads)"
   ]
  },
  {
   "cell_type": "code",
   "execution_count": null,
   "metadata": {},
   "outputs": [],
   "source": [
    "gdf = gpd.GeoDataFrame(df, geometry=\"geometry\").set_crs(\"EPSG:4326\")"
   ]
  },
  {
   "cell_type": "code",
   "execution_count": null,
   "metadata": {},
   "outputs": [],
   "source": [
    "gdf.head(2)"
   ]
  },
  {
   "cell_type": "code",
   "execution_count": null,
   "metadata": {},
   "outputs": [],
   "source": [
    "test_df = gdf.iloc[:100]"
   ]
  },
  {
   "cell_type": "code",
   "execution_count": null,
   "metadata": {},
   "outputs": [],
   "source": [
    "test_df.explore()"
   ]
  },
  {
   "cell_type": "code",
   "execution_count": null,
   "metadata": {},
   "outputs": [],
   "source": []
  }
 ],
 "metadata": {
  "kernelspec": {
   "display_name": "Python 3",
   "language": "python",
   "name": "python3"
  },
  "language_info": {
   "codemirror_mode": {
    "name": "ipython",
    "version": 3
   },
   "file_extension": ".py",
   "mimetype": "text/x-python",
   "name": "python",
   "nbconvert_exporter": "python",
   "pygments_lexer": "ipython3",
   "version": "3.10.8"
  }
 },
 "nbformat": 4,
 "nbformat_minor": 2
}
